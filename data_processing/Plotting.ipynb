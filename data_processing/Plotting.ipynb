{
  "cells": [
    {
      "cell_type": "code",
      "metadata": {
        "cell_id": "00000-1b48df54-8938-4bfc-ba18-6b90c991706c",
        "deepnote_to_be_reexecuted": false,
        "source_hash": "6079023b",
        "execution_start": 1616125662951,
        "execution_millis": 2713,
        "deepnote_cell_type": "code"
      },
      "source": "import numpy as np\nimport matplotlib.pyplot as plt\nimport matplotlib.image as mpimg",
      "execution_count": null,
      "outputs": []
    },
    {
      "cell_type": "code",
      "metadata": {
        "cell_id": "00001-3d2e43c4-af58-4e91-9386-2f471d812e84",
        "deepnote_to_be_reexecuted": false,
        "source_hash": "aa17af37",
        "execution_start": 1616125665672,
        "execution_millis": 90,
        "deepnote_cell_type": "code"
      },
      "source": "outputs = np.load('val_pred.npy')\nimg = np.load('val_img.npy')\nlabel = np.load('val_label.npy')",
      "execution_count": null,
      "outputs": []
    },
    {
      "cell_type": "code",
      "metadata": {
        "cell_id": "00002-b9d13de5-f0a0-406e-9ac3-65d018a811c1",
        "deepnote_cell_type": "code"
      },
      "source": "batch = 6",
      "execution_count": null,
      "outputs": []
    },
    {
      "cell_type": "code",
      "metadata": {
        "scrolled": true,
        "cell_id": "00003-345bfc51-d3be-4dbb-8584-951296ee9b06",
        "deepnote_cell_type": "code"
      },
      "source": "for index in range(batch):\n    fig, (a1, a2, a3) = plt.subplots(1,3, figsize=(10,30))\n    a1.imshow(img[index,0,:,:])\n    a2.imshow(np.argmax(outputs[index,:,:,:],axis=0))\n    a3.imshow(label[index,:,:])\n    a1.set_title('Image')\n    a2.set_title('Predicted')\n    a3.set_title('Mask')\n\n# predplot = \n# imgplot = plt.imshow(img[index,0,:,:])\n# # labelplot = plt.imshow(label[index,:,:])\n#plt.show(predplot)\n#np.ptp(predplot)",
      "execution_count": null,
      "outputs": []
    },
    {
      "cell_type": "code",
      "metadata": {
        "tags": [],
        "cell_id": "00004-2a7746e3-49c5-4b94-b832-3203f26558f4",
        "deepnote_cell_type": "code"
      },
      "source": "",
      "execution_count": null,
      "outputs": []
    },
    {
      "cell_type": "code",
      "metadata": {
        "cell_id": "00004-e130b399-9618-42bc-a96f-ef59c3ba2914",
        "deepnote_to_be_reexecuted": false,
        "source_hash": "6f5a65a9",
        "execution_start": 1616125657431,
        "execution_millis": 329,
        "deepnote_cell_type": "code"
      },
      "source": "train_loss = np.load('train_loss.npy').reshape(-1)\ntrain_loss_dice = np.load('train_loss_dice.npy').reshape(-1)\nval_loss = np.load('val_loss.npy').reshape(-1)\nval_loss_dice = np.load('val_loss_dice.npy').reshape(-1)",
      "execution_count": null,
      "outputs": []
    },
    {
      "cell_type": "code",
      "metadata": {
        "cell_id": "00005-cc0bba2c-f8fc-4ca3-99c4-dd2c74b0a318",
        "deepnote_to_be_reexecuted": true,
        "source_hash": "3e72da4f",
        "deepnote_cell_type": "code"
      },
      "source": "# Plot for Train & Validation Dice Coefficient\nref = np.ones((1,len(train_loss_dice))) \nplt.figure()\nplt.plot(np.arange(len(train_loss_dice)), ref-train_loss_dice, label='train')\nplt.plot(np.arange(len(val_loss_dice)), ref-val_loss_dice, label='validation')\nplt.title('TransUnet Training & Validation DSC')\nplt.xlabel('epoch')\nplt.ylabel('loss')\nplt.legend(loc='upper right')",
      "execution_count": null,
      "outputs": []
    },
    {
      "cell_type": "code",
      "metadata": {
        "cell_id": "00006-f3a1a718-e9dc-464b-b1d1-b716518a21f7",
        "deepnote_cell_type": "code"
      },
      "source": "# Plot for Train & Validation CE loss\nplt.figure()\nplt.plot(np.arange(len(train_loss)), train_loss, label='train')\nplt.plot(np.arange(len(val_loss)), val_loss, label='validation')\nplt.title('TransUnet Training & Validation Cross Entropy Loss')\nplt.xlabel('epoch')\nplt.ylabel('loss')\nplt.legend(loc='upper right')",
      "execution_count": null,
      "outputs": []
    },
    {
      "cell_type": "code",
      "metadata": {
        "cell_id": "00007-f3a6a376-0a07-49de-9f9a-9b10c12decff",
        "deepnote_cell_type": "code"
      },
      "source": "",
      "execution_count": null,
      "outputs": []
    },
    {
      "cell_type": "markdown",
      "source": "<a style='text-decoration:none;line-height:16px;display:flex;color:#5B5B62;padding:10px;justify-content:end;' href='https://deepnote.com?utm_source=created-in-deepnote-cell&projectId=c5aa932a-5c34-48e2-be33-10614017587c' target=\"_blank\">\n<img style='display:inline;max-height:16px;margin:0px;margin-right:7.5px;' src='data:image/svg+xml;base64,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' > </img>\nCreated in <span style='font-weight:600;margin-left:4px;'>Deepnote</span></a>",
      "metadata": {
        "tags": [],
        "created_in_deepnote_cell": true,
        "deepnote_cell_type": "markdown"
      }
    }
  ],
  "nbformat": 4,
  "nbformat_minor": 4,
  "metadata": {
    "kernelspec": {
      "display_name": "Python 3",
      "language": "python",
      "name": "python3"
    },
    "language_info": {
      "codemirror_mode": {
        "name": "ipython",
        "version": 3
      },
      "file_extension": ".py",
      "mimetype": "text/x-python",
      "name": "python",
      "nbconvert_exporter": "python",
      "pygments_lexer": "ipython3",
      "version": "3.7.6"
    },
    "deepnote_notebook_id": "45a1b211-fad0-4388-87cd-83948e847e0e",
    "deepnote": {},
    "deepnote_execution_queue": []
  }
}