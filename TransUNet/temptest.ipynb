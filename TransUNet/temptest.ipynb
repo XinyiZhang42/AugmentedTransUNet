{
  "cells": [
    {
      "cell_type": "code",
      "metadata": {
        "tags": [],
        "cell_id": "00000-fe121147-9ec7-4a7a-a6f5-db1a5ca83ed0",
        "deepnote_cell_type": "code"
      },
      "source": "import argparse\nimport logging\nimport os\nimport random\nimport sys\nimport time\nimport numpy as np\nimport torch\nimport torch.nn as nn\nimport torch.optim as optim\nfrom tensorboardX import SummaryWriter\nfrom torch.nn.modules.loss import CrossEntropyLoss\nfrom torch.utils.data import DataLoader\nfrom tqdm import tqdm\nfrom utils import DiceLoss\nfrom torchvision import transforms\nimport gc\n",
      "execution_count": null,
      "outputs": []
    },
    {
      "cell_type": "code",
      "source": "from datasets.dataset_HuBMAP import HuBMAP_dataset, RandomGenerator\nlogging.basicConfig(filename=snapshot_path + \"/log.txt\", level=logging.INFO,\n                        format='[%(asctime)s.%(msecs)03d] %(message)s', datefmt='%H:%M:%S')\nlogging.getLogger().addHandler(logging.StreamHandler(sys.stdout))\nlogging.info(str(args))\nbase_lr = args.base_lr\nnum_classes = args.num_classes\nbatch_size = args.batch_size * args.n_gpu\n\ndb_test = HuBMAP_dataset(base_dir=args.root_path, list_dir=args.list_dir, split=\"test\",\n                            transform=transforms.Compose(\n                                [RandomGenerator(output_size=[args.img_size, args.img_size])]))\n\nprint(\"The length of train set is: {}\".format(len(db_test)))\n\ndef worker_init_fn(worker_id):\n    random.seed(args.seed + worker_id)\n\ntestloader = DataLoader(db_test, batch_size=batch_size, shuffle=True, num_workers=8, pin_memory=True,\n                             worker_init_fn=worker_init_fn)  \n\n ",
      "metadata": {
        "tags": [],
        "cell_id": "00001-bdbe5f3f-b90e-4b27-bb85-ebdb0e46630c",
        "deepnote_cell_type": "code"
      },
      "outputs": [],
      "execution_count": null
    },
    {
      "cell_type": "code",
      "source": "if args.n_gpu > 1:\n    model = nn.DataParallel(model)\n\nce_loss = CrossEntropyLoss()\ndice_loss = DiceLoss(num_classes)\nwriter = SummaryWriter(snapshot_path + '/log')\nlogging.info(\"{} iterations per epoch. {} max iterations \".format(len(testloader), max_iterations))\niterator = tqdm(range(max_epoch), ncols=70)\n",
      "metadata": {
        "tags": [],
        "cell_id": "00002-13387ec7-f997-4336-94e6-50c3eba3cf9d",
        "deepnote_cell_type": "code"
      },
      "outputs": [],
      "execution_count": null
    },
    {
      "cell_type": "code",
      "source": "total_test_loss = 0\ntotal_test_dice_loss = 0\niter_num = 0\nfor i_batch, sampled_batch in enumerate(testloader):\n    model.eval()\n    image_batch, label_batch = sampled_batch['image'], sampled_batch['label']\n    image_batch, label_batch = image_batch.cuda(), label_batch.cuda()\n\n    outputs = model(image_batch)\n    loss_ce = ce_loss(outputs, label_batch[:].long())\n    loss_dice = dice_loss(outputs, label_batch, softmax=True)\n    loss = 0.5 * loss_ce + 0.5 * loss_dice\n    optimizer.zero_grad()\n    \n    ###\n    total_test_loss += loss.item()\n    total_test_dice_loss += loss_dice.item()\n    ###\n    \n    iter_num = iter_num + 1\n\navg_test_loss = total_test_loss/iter_num\n\navg_test_loss_dice = total_test_dice_loss/iter_num\n\nwriter.add_scalar('info/avg_test_loss', avg_test_loss)\nwriter.add_scalar('info/avg_test_loss_dice', avg_test_loss_dice)\n\nlogging.info('test_loss : %f, test_loss_dice: %f' % ( avg_test_loss, avg_test_loss_dice))\n\n",
      "metadata": {
        "tags": [],
        "cell_id": "00002-da0af1af-6f60-4e9d-855d-b35b7d11960f",
        "deepnote_cell_type": "code"
      },
      "outputs": [],
      "execution_count": null
    },
    {
      "cell_type": "markdown",
      "source": "<a style='text-decoration:none;line-height:16px;display:flex;color:#5B5B62;padding:10px;justify-content:end;' href='https://deepnote.com?utm_source=created-in-deepnote-cell&projectId=c5aa932a-5c34-48e2-be33-10614017587c' target=\"_blank\">\n<img style='display:inline;max-height:16px;margin:0px;margin-right:7.5px;' src='data:image/svg+xml;base64,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' > </img>\nCreated in <span style='font-weight:600;margin-left:4px;'>Deepnote</span></a>",
      "metadata": {
        "tags": [],
        "created_in_deepnote_cell": true,
        "deepnote_cell_type": "markdown"
      }
    }
  ],
  "nbformat": 4,
  "nbformat_minor": 2,
  "metadata": {
    "orig_nbformat": 2,
    "deepnote_notebook_id": "85c153e0-5a97-48ee-9674-36854a016a0f",
    "deepnote": {},
    "deepnote_execution_queue": []
  }
}